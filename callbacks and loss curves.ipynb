{
  "nbformat": 4,
  "nbformat_minor": 0,
  "metadata": {
    "colab": {
      "name": "Untitled3.ipynb",
      "provenance": [],
      "collapsed_sections": [],
      "authorship_tag": "ABX9TyPp4d7R4BZ2JTcMk8eR7QZb",
      "include_colab_link": true
    },
    "kernelspec": {
      "name": "python3",
      "display_name": "Python 3"
    },
    "accelerator": "GPU"
  },
  "cells": [
    {
      "cell_type": "markdown",
      "metadata": {
        "id": "view-in-github",
        "colab_type": "text"
      },
      "source": [
        "<a href=\"https://colab.research.google.com/github/Rahatrezaaa/DL-Tensorflow-/blob/master/callbacks%20and%20loss%20curves.ipynb\" target=\"_parent\"><img src=\"https://colab.research.google.com/assets/colab-badge.svg\" alt=\"Open In Colab\"/></a>"
      ]
    },
    {
      "cell_type": "code",
      "metadata": {
        "id": "payvjt_GkHz0",
        "colab_type": "code",
        "outputId": "dad24813-5062-4c0a-8dc5-428364dfa1a7",
        "colab": {
          "base_uri": "https://localhost:8080/",
          "height": 62
        }
      },
      "source": [
        "import numpy as np\n",
        "import matplotlib.pyplot as plt\n",
        "import tensorflow as tf\n",
        "from tensorflow import keras"
      ],
      "execution_count": 1,
      "outputs": [
        {
          "output_type": "display_data",
          "data": {
            "text/html": [
              "<p style=\"color: red;\">\n",
              "The default version of TensorFlow in Colab will soon switch to TensorFlow 2.x.<br>\n",
              "We recommend you <a href=\"https://www.tensorflow.org/guide/migrate\" target=\"_blank\">upgrade</a> now \n",
              "or ensure your notebook will continue to use TensorFlow 1.x via the <code>%tensorflow_version 1.x</code> magic:\n",
              "<a href=\"https://colab.research.google.com/notebooks/tensorflow_version.ipynb\" target=\"_blank\">more info</a>.</p>\n"
            ],
            "text/plain": [
              "<IPython.core.display.HTML object>"
            ]
          },
          "metadata": {
            "tags": []
          }
        }
      ]
    },
    {
      "cell_type": "code",
      "metadata": {
        "id": "EjJuttc-kblz",
        "colab_type": "code",
        "colab": {}
      },
      "source": [
        "#importing fashion mnist dataset\n",
        "mnist=tf.keras.datasets.fashion_mnist"
      ],
      "execution_count": 0,
      "outputs": []
    },
    {
      "cell_type": "code",
      "metadata": {
        "id": "_1k3rnBXkqFb",
        "colab_type": "code",
        "outputId": "820e2074-d786-4073-ef0b-ccd0fad5f938",
        "colab": {
          "base_uri": "https://localhost:8080/",
          "height": 151
        }
      },
      "source": [
        "#loading the data \n",
        "(training_images,training_labels),(test_images,test_labels)=mnist.load_data()"
      ],
      "execution_count": 3,
      "outputs": [
        {
          "output_type": "stream",
          "text": [
            "Downloading data from https://storage.googleapis.com/tensorflow/tf-keras-datasets/train-labels-idx1-ubyte.gz\n",
            "32768/29515 [=================================] - 0s 0us/step\n",
            "Downloading data from https://storage.googleapis.com/tensorflow/tf-keras-datasets/train-images-idx3-ubyte.gz\n",
            "26427392/26421880 [==============================] - 0s 0us/step\n",
            "Downloading data from https://storage.googleapis.com/tensorflow/tf-keras-datasets/t10k-labels-idx1-ubyte.gz\n",
            "8192/5148 [===============================================] - 0s 0us/step\n",
            "Downloading data from https://storage.googleapis.com/tensorflow/tf-keras-datasets/t10k-images-idx3-ubyte.gz\n",
            "4423680/4422102 [==============================] - 0s 0us/step\n"
          ],
          "name": "stdout"
        }
      ]
    },
    {
      "cell_type": "code",
      "metadata": {
        "id": "AEqNJ0kfmEIp",
        "colab_type": "code",
        "colab": {}
      },
      "source": [
        "#Noramlizing\n",
        "training_images=training_images/255.0\n",
        "test_images=test_images/255.0"
      ],
      "execution_count": 0,
      "outputs": []
    },
    {
      "cell_type": "code",
      "metadata": {
        "id": "8BhNFyhzs372",
        "colab_type": "code",
        "colab": {}
      },
      "source": [
        "#####Callbacks\n",
        "#I would like to stop the training when I reach a desired value.\n",
        "class mycallback((tf.keras.callbacks.Callback)):\n",
        "  def on_epoch_end(self,epoch,logs={}):\n",
        "    if(logs.get('acc')>0.9):         \n",
        "      print(\"\\nReached 90% accuracy so cancelling training!\")     #we can also do this in terms of loss.   \"logs.get('loss')<0.1\" \n",
        "      self.model.stop_training = True\n",
        "\n",
        "callbacks = mycallback()\n"
      ],
      "execution_count": 0,
      "outputs": []
    },
    {
      "cell_type": "code",
      "metadata": {
        "id": "6wNM0W5KmYiD",
        "colab_type": "code",
        "colab": {}
      },
      "source": [
        "model=tf.keras.Sequential([tf.keras.layers.Flatten(),\n",
        "                           tf.keras.layers.Dense(1024,activation=tf.nn.relu),\n",
        "                           tf.keras.layers.Dense(512,activation=tf.nn.relu),\n",
        "                           tf.keras.layers.Dense(256,activation=tf.nn.relu),\n",
        "                           tf.keras.layers.Dense(10,activation=tf.nn.softmax)\n",
        "                           ])"
      ],
      "execution_count": 0,
      "outputs": []
    },
    {
      "cell_type": "code",
      "metadata": {
        "id": "Ij6N8Lq7m6g2",
        "colab_type": "code",
        "colab": {}
      },
      "source": [
        "#compiling the model\n",
        "model.compile(optimizer='Adam',loss='sparse_categorical_crossentropy',metrics=['accuracy'])"
      ],
      "execution_count": 0,
      "outputs": []
    },
    {
      "cell_type": "code",
      "metadata": {
        "id": "swqs3ihqnWfV",
        "colab_type": "code",
        "outputId": "72fff9b3-c555-4423-a5ed-746f8f1c4d0a",
        "colab": {
          "base_uri": "https://localhost:8080/",
          "height": 373
        }
      },
      "source": [
        "history=model.fit(training_images,training_labels,epochs=20,validation_split=0.2,callbacks=[callbacks])\n"
      ],
      "execution_count": 8,
      "outputs": [
        {
          "output_type": "stream",
          "text": [
            "WARNING:tensorflow:From /usr/local/lib/python3.6/dist-packages/tensorflow_core/python/ops/resource_variable_ops.py:1630: calling BaseResourceVariable.__init__ (from tensorflow.python.ops.resource_variable_ops) with constraint is deprecated and will be removed in a future version.\n",
            "Instructions for updating:\n",
            "If using Keras pass *_constraint arguments to layers.\n",
            "Train on 48000 samples, validate on 12000 samples\n",
            "Epoch 1/20\n",
            "48000/48000 [==============================] - 5s 111us/sample - loss: 0.4934 - acc: 0.8194 - val_loss: 0.4115 - val_acc: 0.8521\n",
            "Epoch 2/20\n",
            "48000/48000 [==============================] - 4s 77us/sample - loss: 0.3743 - acc: 0.8612 - val_loss: 0.3539 - val_acc: 0.8698\n",
            "Epoch 3/20\n",
            "48000/48000 [==============================] - 4s 77us/sample - loss: 0.3339 - acc: 0.8775 - val_loss: 0.3581 - val_acc: 0.8658\n",
            "Epoch 4/20\n",
            "48000/48000 [==============================] - 4s 78us/sample - loss: 0.3125 - acc: 0.8847 - val_loss: 0.3351 - val_acc: 0.8763\n",
            "Epoch 5/20\n",
            "48000/48000 [==============================] - 4s 77us/sample - loss: 0.2957 - acc: 0.8902 - val_loss: 0.3315 - val_acc: 0.8814\n",
            "Epoch 6/20\n",
            "48000/48000 [==============================] - 4s 76us/sample - loss: 0.2772 - acc: 0.8958 - val_loss: 0.3213 - val_acc: 0.8852\n",
            "Epoch 7/20\n",
            "47296/48000 [============================>.] - ETA: 0s - loss: 0.2645 - acc: 0.9013\n",
            "Reached 90% accuracy so cancelling training!\n",
            "48000/48000 [==============================] - 4s 76us/sample - loss: 0.2647 - acc: 0.9011 - val_loss: 0.3367 - val_acc: 0.8807\n"
          ],
          "name": "stdout"
        }
      ]
    },
    {
      "cell_type": "markdown",
      "metadata": {
        "id": "sOEfkVTv1l5N",
        "colab_type": "text"
      },
      "source": [
        "we can see training has stopped on reaching 90% accuracy"
      ]
    },
    {
      "cell_type": "code",
      "metadata": {
        "id": "D7_a2Dd-1lJ-",
        "colab_type": "code",
        "colab": {}
      },
      "source": [
        ""
      ],
      "execution_count": 0,
      "outputs": []
    },
    {
      "cell_type": "code",
      "metadata": {
        "id": "VSBSa5qV0osZ",
        "colab_type": "code",
        "colab": {
          "base_uri": "https://localhost:8080/",
          "height": 34
        },
        "outputId": "cd4cdd2c-ad83-4e16-e1b5-d8882fc23727"
      },
      "source": [
        "history.history.keys()"
      ],
      "execution_count": 11,
      "outputs": [
        {
          "output_type": "execute_result",
          "data": {
            "text/plain": [
              "dict_keys(['loss', 'acc', 'val_loss', 'val_acc'])"
            ]
          },
          "metadata": {
            "tags": []
          },
          "execution_count": 11
        }
      ]
    },
    {
      "cell_type": "code",
      "metadata": {
        "id": "9cjtt8c7sQQb",
        "colab_type": "code",
        "outputId": "887adda6-6095-4cfc-bc92-fea249821484",
        "colab": {
          "base_uri": "https://localhost:8080/",
          "height": 265
        }
      },
      "source": [
        "plt.plot(history.history['loss'])\n",
        "plt.plot(history.history['val_loss'])\n",
        "plt.legend(['train','test'])\n",
        "plt.show()"
      ],
      "execution_count": 18,
      "outputs": [
        {
          "output_type": "display_data",
          "data": {
            "image/png": "[encoded data removed]",
            "text/plain": [
              "<Figure size 432x288 with 1 Axes>"
            ]
          },
          "metadata": {
            "tags": []
          }
        }
      ]
    },
    {
      "cell_type": "code",
      "metadata": {
        "id": "WEV-stpmzV1L",
        "colab_type": "code",
        "colab": {}
      },
      "source": [
        ""
      ],
      "execution_count": 0,
      "outputs": []
    }
  ]
}