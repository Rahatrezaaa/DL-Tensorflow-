{
  "nbformat": 4,
  "nbformat_minor": 0,
  "metadata": {
    "colab": {
      "name": "Untitled3.ipynb",
      "provenance": [],
      "collapsed_sections": [],
      "authorship_tag": "ABX9TyN9mUB1mLgMUuI393YXipd9",
      "include_colab_link": true
    },
    "kernelspec": {
      "name": "python3",
      "display_name": "Python 3"
    },
    "accelerator": "GPU"
  },
  "cells": [
    {
      "cell_type": "markdown",
      "metadata": {
        "id": "view-in-github",
        "colab_type": "text"
      },
      "source": [
        "<a href=\"https://colab.research.google.com/github/Rahatrezaaa/DL-Tensorflow-/blob/master/callbacks%20and%20loss/accuracy%20curves.ipynb\" target=\"_parent\"><img src=\"https://colab.research.google.com/assets/colab-badge.svg\" alt=\"Open In Colab\"/></a>"
      ]
    },
    {
      "cell_type": "code",
      "metadata": {
        "id": "payvjt_GkHz0",
        "colab_type": "code",
        "colab": {}
      },
      "source": [
        "import numpy as np\n",
        "import matplotlib.pyplot as plt\n",
        "import tensorflow as tf\n",
        "from tensorflow import keras"
      ],
      "execution_count": 0,
      "outputs": []
    },
    {
      "cell_type": "code",
      "metadata": {
        "id": "EjJuttc-kblz",
        "colab_type": "code",
        "colab": {}
      },
      "source": [
        "#importing fashion mnist dataset\n",
        "mnist=tf.keras.datasets.fashion_mnist"
      ],
      "execution_count": 0,
      "outputs": []
    },
    {
      "cell_type": "code",
      "metadata": {
        "id": "_1k3rnBXkqFb",
        "colab_type": "code",
        "colab": {}
      },
      "source": [
        "#loading the data \n",
        "(training_images,training_labels),(test_images,test_labels)=mnist.load_data()"
      ],
      "execution_count": 0,
      "outputs": []
    },
    {
      "cell_type": "code",
      "metadata": {
        "id": "AEqNJ0kfmEIp",
        "colab_type": "code",
        "colab": {}
      },
      "source": [
        "#Noramlizing\n",
        "training_images=training_images/255.0\n",
        "test_images=test_images/255.0"
      ],
      "execution_count": 0,
      "outputs": []
    },
    {
      "cell_type": "code",
      "metadata": {
        "id": "8BhNFyhzs372",
        "colab_type": "code",
        "colab": {}
      },
      "source": [
        "#####Callbacks\n",
        "#I would like to stop the training when I reach a desired value.\n",
        "class mycallback((tf.keras.callbacks.Callback)):\n",
        "  def on_epoch_end(self,epoch,logs={}):\n",
        "    if(logs.get('acc')>0.90):         \n",
        "      print(\"\\nReached 90% accuracy so cancelling training!\")     #we can also do this in terms of loss.   \"logs.get('loss')<0.1\" \n",
        "      self.model.stop_training = True\n",
        "\n",
        "callbacks = mycallback()\n"
      ],
      "execution_count": 0,
      "outputs": []
    },
    {
      "cell_type": "code",
      "metadata": {
        "id": "6wNM0W5KmYiD",
        "colab_type": "code",
        "colab": {}
      },
      "source": [
        "model=tf.keras.Sequential([tf.keras.layers.Flatten(),\n",
        "                           tf.keras.layers.Dense(1024,activation=tf.nn.relu),\n",
        "                           tf.keras.layers.Dense(512,activation=tf.nn.relu),\n",
        "                           tf.keras.layers.Dense(256,activation=tf.nn.relu),\n",
        "                           tf.keras.layers.Dense(10,activation=tf.nn.softmax)\n",
        "                           ])"
      ],
      "execution_count": 0,
      "outputs": []
    },
    {
      "cell_type": "code",
      "metadata": {
        "id": "Ij6N8Lq7m6g2",
        "colab_type": "code",
        "colab": {}
      },
      "source": [
        "#compiling the model\n",
        "model.compile(optimizer='Adam',loss='sparse_categorical_crossentropy',metrics=['accuracy'])"
      ],
      "execution_count": 0,
      "outputs": []
    },
    {
      "cell_type": "code",
      "metadata": {
        "id": "swqs3ihqnWfV",
        "colab_type": "code",
        "outputId": "9e0f5d0e-50a0-4010-b191-c37d6c2be833",
        "colab": {
          "base_uri": "https://localhost:8080/",
          "height": 302
        }
      },
      "source": [
        "history=model.fit(training_images,training_labels,epochs=20,validation_split=0.2,callbacks=[callbacks])\n"
      ],
      "execution_count": 29,
      "outputs": [
        {
          "output_type": "stream",
          "text": [
            "Train on 48000 samples, validate on 12000 samples\n",
            "Epoch 1/20\n",
            "48000/48000 [==============================] - 4s 88us/sample - loss: 0.4925 - acc: 0.8210 - val_loss: 0.4478 - val_acc: 0.8393\n",
            "Epoch 2/20\n",
            "48000/48000 [==============================] - 4s 85us/sample - loss: 0.3742 - acc: 0.8633 - val_loss: 0.4131 - val_acc: 0.8450\n",
            "Epoch 3/20\n",
            "48000/48000 [==============================] - 4s 86us/sample - loss: 0.3332 - acc: 0.8782 - val_loss: 0.3519 - val_acc: 0.8733\n",
            "Epoch 4/20\n",
            "48000/48000 [==============================] - 4s 85us/sample - loss: 0.3123 - acc: 0.8835 - val_loss: 0.3665 - val_acc: 0.8655\n",
            "Epoch 5/20\n",
            "48000/48000 [==============================] - 4s 83us/sample - loss: 0.2933 - acc: 0.8905 - val_loss: 0.3377 - val_acc: 0.8791\n",
            "Epoch 6/20\n",
            "48000/48000 [==============================] - 4s 84us/sample - loss: 0.2770 - acc: 0.8958 - val_loss: 0.3310 - val_acc: 0.8827\n",
            "Epoch 7/20\n",
            "47328/48000 [============================>.] - ETA: 0s - loss: 0.2629 - acc: 0.9010\n",
            "Reached 90% accuracy so cancelling training!\n",
            "48000/48000 [==============================] - 4s 85us/sample - loss: 0.2626 - acc: 0.9011 - val_loss: 0.3314 - val_acc: 0.8865\n"
          ],
          "name": "stdout"
        }
      ]
    },
    {
      "cell_type": "markdown",
      "metadata": {
        "id": "sOEfkVTv1l5N",
        "colab_type": "text"
      },
      "source": [
        "we can see training has stopped on reaching 90% accuracy"
      ]
    },
    {
      "cell_type": "code",
      "metadata": {
        "id": "D7_a2Dd-1lJ-",
        "colab_type": "code",
        "colab": {}
      },
      "source": [
        ""
      ],
      "execution_count": 0,
      "outputs": []
    },
    {
      "cell_type": "code",
      "metadata": {
        "id": "VSBSa5qV0osZ",
        "colab_type": "code",
        "outputId": "81ef83cf-37aa-4848-9447-ffe21b2b5501",
        "colab": {
          "base_uri": "https://localhost:8080/",
          "height": 34
        }
      },
      "source": [
        "history.history.keys()"
      ],
      "execution_count": 32,
      "outputs": [
        {
          "output_type": "execute_result",
          "data": {
            "text/plain": [
              "dict_keys(['loss', 'acc', 'val_loss', 'val_acc'])"
            ]
          },
          "metadata": {
            "tags": []
          },
          "execution_count": 32
        }
      ]
    },
    {
      "cell_type": "code",
      "metadata": {
        "id": "9cjtt8c7sQQb",
        "colab_type": "code",
        "outputId": "6584939b-a72a-4572-924f-19b69f6b855a",
        "colab": {
          "base_uri": "https://localhost:8080/",
          "height": 281
        }
      },
      "source": [
        "plt.plot(history.history['loss'])\n",
        "plt.plot(history.history['val_loss'])\n",
        "plt.legend(['train','val'])\n",
        "plt.title(\"LOSS\")\n",
        "plt.show()"
      ],
      "execution_count": 34,
      "outputs": [
        {
          "output_type": "display_data",
          "data": {
            "image/png": "[encoded data removed]",
            "text/plain": [
              "<Figure size 432x288 with 1 Axes>"
            ]
          },
          "metadata": {
            "tags": []
          }
        }
      ]
    },
    {
      "cell_type": "code",
      "metadata": {
        "id": "WEV-stpmzV1L",
        "colab_type": "code",
        "colab": {
          "base_uri": "https://localhost:8080/",
          "height": 281
        },
        "outputId": "9d44f836-80a9-4e44-e638-6c9723143161"
      },
      "source": [
        "plt.plot(history.history['acc'])\n",
        "plt.plot(history.history['val_acc'])\n",
        "plt.legend(['train','val'])\n",
        "plt.title(\"accuracy\")\n",
        "plt.show()"
      ],
      "execution_count": 35,
      "outputs": [
        {
          "output_type": "display_data",
          "data": {
            "image/png": "[encoded data removed]",
            "text/plain": [
              "<Figure size 432x288 with 1 Axes>"
            ]
          },
          "metadata": {
            "tags": []
          }
        }
      ]
    },
    {
      "cell_type": "code",
      "metadata": {
        "id": "kW9WDZFi2q2p",
        "colab_type": "code",
        "colab": {}
      },
      "source": [
        ""
      ],
      "execution_count": 0,
      "outputs": []
    }
  ]
}