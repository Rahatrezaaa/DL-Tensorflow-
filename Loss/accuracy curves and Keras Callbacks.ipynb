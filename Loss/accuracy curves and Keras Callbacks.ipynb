{
  "nbformat": 4,
  "nbformat_minor": 0,
  "metadata": {
    "colab": {
      "name": "Untitled3.ipynb",
      "provenance": [],
      "collapsed_sections": [],
      "authorship_tag": "ABX9TyN8ewtIXE1NIy1mSvtjDbBY",
      "include_colab_link": true
    },
    "kernelspec": {
      "name": "python3",
      "display_name": "Python 3"
    },
    "accelerator": "GPU"
  },
  "cells": [
    {
      "cell_type": "markdown",
      "metadata": {
        "id": "view-in-github",
        "colab_type": "text"
      },
      "source": [
        "<a href=\"https://colab.research.google.com/github/Rahatrezaaa/DL-Tensorflow-/blob/master/Loss/accuracy%20curves%20and%20Keras%20Callbacks.ipynb\" target=\"_parent\"><img src=\"https://colab.research.google.com/assets/colab-badge.svg\" alt=\"Open In Colab\"/></a>"
      ]
    },
    {
      "cell_type": "code",
      "metadata": {
        "id": "payvjt_GkHz0",
        "colab_type": "code",
        "outputId": "2be89978-03e9-4672-c26c-4bd9f28a86b3",
        "colab": {
          "base_uri": "https://localhost:8080/",
          "height": 62
        }
      },
      "source": [
        "import numpy as np\n",
        "import matplotlib.pyplot as plt\n",
        "import tensorflow as tf\n",
        "from tensorflow import keras"
      ],
      "execution_count": 0,
      "outputs": [
        {
          "output_type": "display_data",
          "data": {
            "text/html": [
              "<p style=\"color: red;\">\n",
              "The default version of TensorFlow in Colab will soon switch to TensorFlow 2.x.<br>\n",
              "We recommend you <a href=\"https://www.tensorflow.org/guide/migrate\" target=\"_blank\">upgrade</a> now \n",
              "or ensure your notebook will continue to use TensorFlow 1.x via the <code>%tensorflow_version 1.x</code> magic:\n",
              "<a href=\"https://colab.research.google.com/notebooks/tensorflow_version.ipynb\" target=\"_blank\">more info</a>.</p>\n"
            ],
            "text/plain": [
              "<IPython.core.display.HTML object>"
            ]
          },
          "metadata": {
            "tags": []
          }
        }
      ]
    },
    {
      "cell_type": "code",
      "metadata": {
        "id": "EjJuttc-kblz",
        "colab_type": "code",
        "colab": {}
      },
      "source": [
        "#importing fashion mnist dataset\n",
        "mnist=tf.keras.datasets.fashion_mnist"
      ],
      "execution_count": 0,
      "outputs": []
    },
    {
      "cell_type": "code",
      "metadata": {
        "id": "_1k3rnBXkqFb",
        "colab_type": "code",
        "outputId": "d3b4c122-dc63-41d1-f932-8a8fff0802b7",
        "colab": {
          "base_uri": "https://localhost:8080/",
          "height": 151
        }
      },
      "source": [
        "#loading the data \n",
        "(training_images,training_labels),(test_images,test_labels)=mnist.load_data()"
      ],
      "execution_count": 0,
      "outputs": [
        {
          "output_type": "stream",
          "text": [
            "Downloading data from https://storage.googleapis.com/tensorflow/tf-keras-datasets/train-labels-idx1-ubyte.gz\n",
            "32768/29515 [=================================] - 0s 0us/step\n",
            "Downloading data from https://storage.googleapis.com/tensorflow/tf-keras-datasets/train-images-idx3-ubyte.gz\n",
            "26427392/26421880 [==============================] - 0s 0us/step\n",
            "Downloading data from https://storage.googleapis.com/tensorflow/tf-keras-datasets/t10k-labels-idx1-ubyte.gz\n",
            "8192/5148 [===============================================] - 0s 0us/step\n",
            "Downloading data from https://storage.googleapis.com/tensorflow/tf-keras-datasets/t10k-images-idx3-ubyte.gz\n",
            "4423680/4422102 [==============================] - 0s 0us/step\n"
          ],
          "name": "stdout"
        }
      ]
    },
    {
      "cell_type": "code",
      "metadata": {
        "id": "AEqNJ0kfmEIp",
        "colab_type": "code",
        "colab": {}
      },
      "source": [
        "#Noramlizing\n",
        "training_images=training_images/255.0\n",
        "test_images=test_images/255.0"
      ],
      "execution_count": 0,
      "outputs": []
    },
    {
      "cell_type": "code",
      "metadata": {
        "id": "8BhNFyhzs372",
        "colab_type": "code",
        "colab": {}
      },
      "source": [
        "#####Callbacks\n",
        "#I would like to stop the training when I reach a desired value.\n",
        "class mycallback((tf.keras.callbacks.Callback)):\n",
        "  def on_epoch_end(self,epoch,logs={}):\n",
        "    if(logs.get('acc')>0.93):         \n",
        "      print(\"\\nReached 93% accuracy so cancelling training!\")     #we can also do this in terms of loss.   \"logs.get('loss')<0.1\" \n",
        "      self.model.stop_training = True\n",
        "\n",
        "callbacks = mycallback()\n"
      ],
      "execution_count": 0,
      "outputs": []
    },
    {
      "cell_type": "code",
      "metadata": {
        "id": "6wNM0W5KmYiD",
        "colab_type": "code",
        "colab": {}
      },
      "source": [
        "model=tf.keras.Sequential([tf.keras.layers.Flatten(),\n",
        "                           tf.keras.layers.Dense(1024,activation=tf.nn.relu),\n",
        "                           tf.keras.layers.Dense(512,activation=tf.nn.relu),\n",
        "                           tf.keras.layers.Dense(256,activation=tf.nn.relu),\n",
        "                           tf.keras.layers.Dense(10,activation=tf.nn.softmax)\n",
        "                           ])"
      ],
      "execution_count": 0,
      "outputs": []
    },
    {
      "cell_type": "code",
      "metadata": {
        "id": "Ij6N8Lq7m6g2",
        "colab_type": "code",
        "colab": {}
      },
      "source": [
        "#compiling the model\n",
        "model.compile(optimizer='Adam',loss='sparse_categorical_crossentropy',metrics=['accuracy'])"
      ],
      "execution_count": 0,
      "outputs": []
    },
    {
      "cell_type": "code",
      "metadata": {
        "id": "swqs3ihqnWfV",
        "colab_type": "code",
        "outputId": "eefa1e85-6a2a-4424-88b5-c40f82f45317",
        "colab": {
          "base_uri": "https://localhost:8080/",
          "height": 709
        }
      },
      "source": [
        "history=model.fit(training_images,training_labels,epochs=20,validation_split=0.2,callbacks=[callbacks])\n"
      ],
      "execution_count": 0,
      "outputs": [
        {
          "output_type": "stream",
          "text": [
            "WARNING:tensorflow:From /usr/local/lib/python3.6/dist-packages/tensorflow_core/python/ops/resource_variable_ops.py:1630: calling BaseResourceVariable.__init__ (from tensorflow.python.ops.resource_variable_ops) with constraint is deprecated and will be removed in a future version.\n",
            "Instructions for updating:\n",
            "If using Keras pass *_constraint arguments to layers.\n",
            "Train on 48000 samples, validate on 12000 samples\n",
            "Epoch 1/20\n",
            "48000/48000 [==============================] - 6s 129us/sample - loss: 0.4972 - acc: 0.8205 - val_loss: 0.4387 - val_acc: 0.8393\n",
            "Epoch 2/20\n",
            "48000/48000 [==============================] - 4s 91us/sample - loss: 0.3766 - acc: 0.8621 - val_loss: 0.3698 - val_acc: 0.8685\n",
            "Epoch 3/20\n",
            "48000/48000 [==============================] - 4s 88us/sample - loss: 0.3357 - acc: 0.8766 - val_loss: 0.3452 - val_acc: 0.8768\n",
            "Epoch 4/20\n",
            "48000/48000 [==============================] - 4s 90us/sample - loss: 0.3111 - acc: 0.8839 - val_loss: 0.3357 - val_acc: 0.8802\n",
            "Epoch 5/20\n",
            "48000/48000 [==============================] - 4s 91us/sample - loss: 0.2920 - acc: 0.8908 - val_loss: 0.3311 - val_acc: 0.8800\n",
            "Epoch 6/20\n",
            "48000/48000 [==============================] - 4s 90us/sample - loss: 0.2761 - acc: 0.8959 - val_loss: 0.3265 - val_acc: 0.8805\n",
            "Epoch 7/20\n",
            "48000/48000 [==============================] - 4s 91us/sample - loss: 0.2651 - acc: 0.9015 - val_loss: 0.3264 - val_acc: 0.8903\n",
            "Epoch 8/20\n",
            "48000/48000 [==============================] - 4s 91us/sample - loss: 0.2494 - acc: 0.9057 - val_loss: 0.3178 - val_acc: 0.8925\n",
            "Epoch 9/20\n",
            "48000/48000 [==============================] - 4s 90us/sample - loss: 0.2426 - acc: 0.9074 - val_loss: 0.3219 - val_acc: 0.8923\n",
            "Epoch 10/20\n",
            "48000/48000 [==============================] - 4s 91us/sample - loss: 0.2319 - acc: 0.9115 - val_loss: 0.3189 - val_acc: 0.8856\n",
            "Epoch 11/20\n",
            "48000/48000 [==============================] - 4s 92us/sample - loss: 0.2252 - acc: 0.9148 - val_loss: 0.3524 - val_acc: 0.8876\n",
            "Epoch 12/20\n",
            "48000/48000 [==============================] - 4s 91us/sample - loss: 0.2139 - acc: 0.9172 - val_loss: 0.3473 - val_acc: 0.8885\n",
            "Epoch 13/20\n",
            "48000/48000 [==============================] - 5s 94us/sample - loss: 0.2096 - acc: 0.9194 - val_loss: 0.3429 - val_acc: 0.8889\n",
            "Epoch 14/20\n",
            "48000/48000 [==============================] - 4s 89us/sample - loss: 0.2037 - acc: 0.9225 - val_loss: 0.3443 - val_acc: 0.8920\n",
            "Epoch 15/20\n",
            "48000/48000 [==============================] - 4s 90us/sample - loss: 0.1934 - acc: 0.9256 - val_loss: 0.3410 - val_acc: 0.8986\n",
            "Epoch 16/20\n",
            "48000/48000 [==============================] - 4s 89us/sample - loss: 0.1886 - acc: 0.9276 - val_loss: 0.3704 - val_acc: 0.8920\n",
            "Epoch 17/20\n",
            "47744/48000 [============================>.] - ETA: 0s - loss: 0.1811 - acc: 0.9306\n",
            "Reached 93% accuracy so cancelling training!\n",
            "48000/48000 [==============================] - 5s 94us/sample - loss: 0.1811 - acc: 0.9306 - val_loss: 0.3784 - val_acc: 0.8843\n"
          ],
          "name": "stdout"
        }
      ]
    },
    {
      "cell_type": "markdown",
      "metadata": {
        "id": "sOEfkVTv1l5N",
        "colab_type": "text"
      },
      "source": [
        "we can see training has stopped on reaching 90% accuracy"
      ]
    },
    {
      "cell_type": "code",
      "metadata": {
        "id": "VSBSa5qV0osZ",
        "colab_type": "code",
        "outputId": "0cb5a7d4-d120-4085-d642-74a7f1028de4",
        "colab": {
          "base_uri": "https://localhost:8080/",
          "height": 34
        }
      },
      "source": [
        "history.history.keys()"
      ],
      "execution_count": 0,
      "outputs": [
        {
          "output_type": "execute_result",
          "data": {
            "text/plain": [
              "dict_keys(['loss', 'acc', 'val_loss', 'val_acc'])"
            ]
          },
          "metadata": {
            "tags": []
          },
          "execution_count": 9
        }
      ]
    },
    {
      "cell_type": "code",
      "metadata": {
        "id": "9cjtt8c7sQQb",
        "colab_type": "code",
        "outputId": "38dbb90c-826a-4209-831d-c2bfcda2b76b",
        "colab": {
          "base_uri": "https://localhost:8080/",
          "height": 281
        }
      },
      "source": [
        "plt.plot(history.history['loss'])\n",
        "plt.plot(history.history['val_loss'])\n",
        "plt.legend(['train','val'])\n",
        "plt.title(\"LOSS\")\n",
        "plt.show()"
      ],
      "execution_count": 0,
      "outputs": [
        {
          "output_type": "display_data",
          "data": {
            "image/png": "[encoded data removed]",
            "text/plain": [
              "<Figure size 432x288 with 1 Axes>"
            ]
          },
          "metadata": {
            "tags": []
          }
        }
      ]
    },
    {
      "cell_type": "code",
      "metadata": {
        "id": "WEV-stpmzV1L",
        "colab_type": "code",
        "outputId": "80a3c0c9-a9d7-491c-c04e-6301caa3442d",
        "colab": {
          "base_uri": "https://localhost:8080/",
          "height": 281
        }
      },
      "source": [
        "plt.plot(history.history['acc'])\n",
        "plt.plot(history.history['val_acc'])\n",
        "plt.legend(['train','val'])\n",
        "plt.title(\"accuracy\")\n",
        "plt.show()"
      ],
      "execution_count": 0,
      "outputs": [
        {
          "output_type": "display_data",
          "data": {
            "image/png": "[encoded data removed]",
            "text/plain": [
              "<Figure size 432x288 with 1 Axes>"
            ]
          },
          "metadata": {
            "tags": []
          }
        }
      ]
    },
    {
      "cell_type": "code",
      "metadata": {
        "id": "kW9WDZFi2q2p",
        "colab_type": "code",
        "outputId": "4312d68e-d835-40b2-d991-fc1bbf660f1a",
        "colab": {
          "base_uri": "https://localhost:8080/",
          "height": 50
        }
      },
      "source": [
        "model.evaluate(test_images,test_labels)"
      ],
      "execution_count": 0,
      "outputs": [
        {
          "output_type": "stream",
          "text": [
            "10000/10000 [==============================] - 0s 47us/sample - loss: 0.4131 - acc: 0.8801\n"
          ],
          "name": "stdout"
        },
        {
          "output_type": "execute_result",
          "data": {
            "text/plain": [
              "[0.4131148350715637, 0.8801]"
            ]
          },
          "metadata": {
            "tags": []
          },
          "execution_count": 12
        }
      ]
    },
    {
      "cell_type": "markdown",
      "metadata": {
        "id": "S9NilKay4Z4n",
        "colab_type": "text"
      },
      "source": [
        "\n",
        "88% aaccuracy on the test sets."
      ]
    },
    {
      "cell_type": "code",
      "metadata": {
        "id": "JgWewTX-4WZy",
        "colab_type": "code",
        "colab": {}
      },
      "source": [
        ""
      ],
      "execution_count": 0,
      "outputs": []
    }
  ]
}